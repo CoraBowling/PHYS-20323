{
 "cells": [
  {
   "cell_type": "code",
   "execution_count": 1,
   "id": "83b37580",
   "metadata": {},
   "outputs": [],
   "source": [
    "from matplotlib import pyplot as plt\n",
    "import numpy as np"
   ]
  },
  {
   "cell_type": "code",
   "execution_count": 2,
   "id": "bf17c1de",
   "metadata": {},
   "outputs": [
    {
     "name": "stdout",
     "output_type": "stream",
     "text": [
      "(-9.99875737761613e-07, -9999999.999999, -10001242.7768141, -1.0000000000001001e-06)\n"
     ]
    }
   ],
   "source": [
    "# take in 3 values: a, b, c\n",
    "\n",
    "a = 0.0001\n",
    "b = 1000\n",
    "c = 0.001\n",
    "\n",
    "def quad(a, b, c):\n",
    "    \n",
    "    num1 = (-b) + np.sqrt((b**2)-(4*a*c))\n",
    "    num2 = (-b) - np.sqrt((b**2)-(4*a*c))\n",
    "    den1 = 2*a\n",
    "    den2 = 2*c\n",
    "    sol1 = num1/den1\n",
    "    sol2 = num2/den1\n",
    "    sol3 = den2/num1\n",
    "    sol4 = den2/num2\n",
    "    \n",
    "    return sol1, sol2, sol3, sol4\n",
    "\n",
    "print(quad(a, b, c))\n",
    "\n",
    "#The roots I got were differernt depending on which equation I used. This is likely due to differences in rounding."
   ]
  },
  {
   "cell_type": "code",
   "execution_count": 3,
   "id": "0f40d5e7",
   "metadata": {},
   "outputs": [
    {
     "name": "stdout",
     "output_type": "stream",
     "text": [
      "2.2210133333333335\n",
      "3.952307208533333\n",
      "4.352329899523926\n"
     ]
    }
   ],
   "source": [
    "def f(x):\n",
    "    f = (x**4 - 2*x + 1)\n",
    "    return f\n",
    "\n",
    "def simpsons(a, b, n):\n",
    "    \n",
    "    h = (b - a)/n\n",
    "    oddsum = 0\n",
    "    evensum = 0\n",
    "    \n",
    "    for k in range(n//2):\n",
    "        oddsum = oddsum + f(a + ((2*k - 1)*h))\n",
    "        \n",
    "    for k in range(n//2-1):\n",
    "        evensum = evensum + f(a + (2*k*h))\n",
    "        \n",
    "    sol = h*(1/3)*((f(a)) + (f(b)) + (4*oddsum) + (2*evensum))    \n",
    "    \n",
    "    return sol\n",
    "\n",
    "print(simpsons(0, 2, 10))\n",
    "print(simpsons(0, 2, 100))\n",
    "print(simpsons(0, 2, 1000))"
   ]
  },
  {
   "cell_type": "code",
   "execution_count": 4,
   "id": "d8d0afd0",
   "metadata": {
    "scrolled": true
   },
   "outputs": [
    {
     "data": {
      "image/png": "[encoded data removed]",
      "text/plain": [
       "<Figure size 720x360 with 1 Axes>"
      ]
     },
     "metadata": {
      "needs_background": "light"
     },
     "output_type": "display_data"
    }
   ],
   "source": [
    "V = 0.001  #volume in cubic meters\n",
    "p = 6.022*(10**28)  #density in m^-3\n",
    "K = 1.38*(10**(-23))  #boltzmanns constant\n",
    "D = 428  #Debye temp\n",
    "N = 1000  #number of slices\n",
    "\n",
    "def f(x):\n",
    "    \n",
    "    num = (x**4) * (2.7182818**x)\n",
    "    den = ((2.7182818**x)-1)**2\n",
    "    return num/den\n",
    "\n",
    "def cv(T):\n",
    "    a = 0\n",
    "    b = (D/T)\n",
    "    h = (b-a)/N\n",
    "    s = 0.5*f(b)\n",
    "    \n",
    "    for k in range(1, N):\n",
    "        s += f(a+k*h) \n",
    "    \n",
    "    Cv = 9*V*p*K*((T/D)**3)*(h*s)\n",
    "    \n",
    "    return Cv\n",
    "\n",
    "data = []\n",
    "Temp = []\n",
    "for T in range(5,45,5):\n",
    "    data.append(cv(T))\n",
    "    Temp.append(T)\n",
    "\n",
    "fig1 = plt.figure(figsize=(10,5))\n",
    "ax1 = fig1.add_subplot(111)\n",
    "ax1.scatter(data,Temp)\n",
    "\n",
    "ax1.xaxis.set_tick_params(labelsize=20)\n",
    "ax1.yaxis.set_tick_params(labelsize=20)"
   ]
  },
  {
   "cell_type": "code",
   "execution_count": null,
   "id": "7c65d1f1",
   "metadata": {},
   "outputs": [],
   "source": []
  },
  {
   "cell_type": "code",
   "execution_count": null,
   "id": "ca2a117a",
   "metadata": {},
   "outputs": [],
   "source": []
  }
 ],
 "metadata": {
  "kernelspec": {
   "display_name": "Python 3",
   "language": "python",
   "name": "python3"
  },
  "language_info": {
   "codemirror_mode": {
    "name": "ipython",
    "version": 3
   },
   "file_extension": ".py",
   "mimetype": "text/x-python",
   "name": "python",
   "nbconvert_exporter": "python",
   "pygments_lexer": "ipython3",
   "version": "3.8.8"
  }
 },
 "nbformat": 4,
 "nbformat_minor": 5
}
